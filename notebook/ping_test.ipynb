{
 "cells": [
  {
   "cell_type": "code",
   "execution_count": 1,
   "metadata": {},
   "outputs": [
    {
     "name": "stdout",
     "output_type": "stream",
     "text": [
      "Gmail (mail.google.com): Moyenne = 15.2 ms, Écart-type = 2.40 ms, Taille du paquet = 32 octets\n",
      "Outlook (outlook.office.com): Moyenne = 15.79 ms, Écart-type = 1.98 ms, Taille du paquet = 32 octets\n",
      "ProtonMail (mail.proton.me): Moyenne = 25.24 ms, Écart-type = 13.53 ms, Taille du paquet = 32 octets\n"
     ]
    }
   ],
   "source": [
    "import subprocess\n",
    "import re\n",
    "import statistics\n",
    "\n",
    "# List of mail servers to test\n",
    "mail_servers = {\n",
    "    \"Gmail\": \"mail.google.com\",\n",
    "    \"Outlook\": \"outlook.office.com\",\n",
    "    \"ProtonMail\": \"mail.proton.me\"\n",
    "}\n",
    "\n",
    "def ping_server(server):\n",
    "    \"\"\"Ping a mail server and return average latency, standard deviation, and packet size.\"\"\"\n",
    "    try:\n",
    "        # Run the Windows ping command (-n 100 sends 100 packets)\n",
    "        result = subprocess.run(\n",
    "            [\"ping\", \"-n\", \"100\", server],\n",
    "            capture_output=True, text=True, check=True\n",
    "        )\n",
    "        output = result.stdout\n",
    "\n",
    "        # Extract all individual ping times: \"temps=XXms\"\n",
    "        times = [int(match.group(1)) for match in re.finditer(r\"temps[=<]? ?(\\d+) ?ms\", output)]\n",
    "        \n",
    "        # Extract packet size: \"octets=32\"\n",
    "        packet_size = None\n",
    "        match_size = re.search(r\"octets=(\\d+)\", output)\n",
    "        if match_size:\n",
    "            packet_size = match_size.group(1)\n",
    "        \n",
    "        if times:\n",
    "            avg_latency = statistics.mean(times)\n",
    "            std_latency = statistics.stdev(times) if len(times) > 1 else 0  # Avoid error for 1 value\n",
    "            return avg_latency, std_latency, packet_size\n",
    "        else:\n",
    "            return None, None, packet_size\n",
    "    except subprocess.CalledProcessError:\n",
    "        return None, None, None\n",
    "\n",
    "# Run the test\n",
    "for name, server in mail_servers.items():\n",
    "    avg, std, packet_size = ping_server(server)\n",
    "    if avg is not None:\n",
    "        print(f\"{name} ({server}): Moyenne = {avg} ms, Écart-type = {std:.2f} ms, Taille du paquet = {packet_size} octets\")\n",
    "    else:\n",
    "        print(f\"Impossible de ping {name} ({server})\")\n"
   ]
  }
 ],
 "metadata": {
  "kernelspec": {
   "display_name": "notebook_venv",
   "language": "python",
   "name": "python3"
  },
  "language_info": {
   "codemirror_mode": {
    "name": "ipython",
    "version": 3
   },
   "file_extension": ".py",
   "mimetype": "text/x-python",
   "name": "python",
   "nbconvert_exporter": "python",
   "pygments_lexer": "ipython3",
   "version": "3.13.2"
  }
 },
 "nbformat": 4,
 "nbformat_minor": 2
}
